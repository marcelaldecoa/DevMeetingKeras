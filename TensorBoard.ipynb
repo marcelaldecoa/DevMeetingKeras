{
 "cells": [
  {
   "cell_type": "code",
   "execution_count": 1,
   "metadata": {},
   "outputs": [
    {
     "name": "stderr",
     "output_type": "stream",
     "text": [
      "/anaconda/envs/py35/lib/python3.5/site-packages/h5py/__init__.py:36: FutureWarning: Conversion of the second argument of issubdtype from `float` to `np.floating` is deprecated. In future, it will be treated as `np.float64 == np.dtype(float).type`.\n",
      "  from ._conv import register_converters as _register_converters\n",
      "Using TensorFlow backend.\n"
     ]
    }
   ],
   "source": [
    "import keras\n",
    "from keras import layers\n",
    "from keras.datasets import imdb\n",
    "from keras.preprocessing import sequence"
   ]
  },
  {
   "cell_type": "code",
   "execution_count": 2,
   "metadata": {},
   "outputs": [],
   "source": [
    "max_features = 2000\n",
    "max_len = 500"
   ]
  },
  {
   "cell_type": "code",
   "execution_count": 3,
   "metadata": {},
   "outputs": [],
   "source": [
    "(x_train, y_train), (x_test, y_test) = imdb.load_data(num_words=max_features)\n",
    "x_train = sequence.pad_sequences(x_train, maxlen=max_len)\n",
    "x_test = sequence.pad_sequences(x_test, maxlen=max_len)"
   ]
  },
  {
   "cell_type": "code",
   "execution_count": 4,
   "metadata": {},
   "outputs": [
    {
     "name": "stdout",
     "output_type": "stream",
     "text": [
      "WARNING:tensorflow:From /anaconda/envs/py35/lib/python3.5/site-packages/tensorflow/python/util/deprecation.py:497: calling conv1d (from tensorflow.python.ops.nn_ops) with data_format=NHWC is deprecated and will be removed in a future version.\n",
      "Instructions for updating:\n",
      "`NHWC` for data_format is deprecated, use `NWC` instead\n"
     ]
    }
   ],
   "source": [
    "model = keras.models.Sequential()\n",
    "model.add(layers.Embedding(max_features, 128,\n",
    "    input_length=max_len,\n",
    "    name='embed'))\n",
    "model.add(layers.Conv1D(32, 7, activation='relu'))\n",
    "model.add(layers.MaxPooling1D(5))\n",
    "model.add(layers.Conv1D(32, 7, activation='relu'))\n",
    "model.add(layers.GlobalMaxPooling1D())\n",
    "model.add(layers.Dense(1))"
   ]
  },
  {
   "cell_type": "code",
   "execution_count": 5,
   "metadata": {},
   "outputs": [
    {
     "name": "stdout",
     "output_type": "stream",
     "text": [
      "_________________________________________________________________\n",
      "Layer (type)                 Output Shape              Param #   \n",
      "=================================================================\n",
      "embed (Embedding)            (None, 500, 128)          256000    \n",
      "_________________________________________________________________\n",
      "conv1d_1 (Conv1D)            (None, 494, 32)           28704     \n",
      "_________________________________________________________________\n",
      "max_pooling1d_1 (MaxPooling1 (None, 98, 32)            0         \n",
      "_________________________________________________________________\n",
      "conv1d_2 (Conv1D)            (None, 92, 32)            7200      \n",
      "_________________________________________________________________\n",
      "global_max_pooling1d_1 (Glob (None, 32)                0         \n",
      "_________________________________________________________________\n",
      "dense_1 (Dense)              (None, 1)                 33        \n",
      "=================================================================\n",
      "Total params: 291,937\n",
      "Trainable params: 291,937\n",
      "Non-trainable params: 0\n",
      "_________________________________________________________________\n"
     ]
    }
   ],
   "source": [
    "model.summary()"
   ]
  },
  {
   "cell_type": "code",
   "execution_count": 6,
   "metadata": {},
   "outputs": [],
   "source": [
    "model.compile(optimizer='rmsprop',\n",
    "    loss='binary_crossentropy',\n",
    "    metrics=['acc'])"
   ]
  },
  {
   "cell_type": "code",
   "execution_count": 7,
   "metadata": {},
   "outputs": [],
   "source": [
    "callbacks = [\n",
    "    keras.callbacks.TensorBoard(\n",
    "        log_dir='tensorboard_log/imdb',\n",
    "        histogram_freq=1,\n",
    "        embeddings_freq=1,\n",
    "    )\n",
    "]"
   ]
  },
  {
   "cell_type": "code",
   "execution_count": 8,
   "metadata": {},
   "outputs": [
    {
     "name": "stdout",
     "output_type": "stream",
     "text": [
      "Train on 20000 samples, validate on 5000 samples\n",
      "Epoch 1/20\n",
      "20000/20000 [==============================] - 4s 221us/step - loss: 0.6406 - acc: 0.6462 - val_loss: 0.4247 - val_acc: 0.8318\n",
      "Epoch 2/20\n",
      "20000/20000 [==============================] - 3s 166us/step - loss: 0.4617 - acc: 0.8077 - val_loss: 0.8371 - val_acc: 0.6580\n",
      "Epoch 3/20\n",
      "20000/20000 [==============================] - 3s 159us/step - loss: 0.3884 - acc: 0.7998 - val_loss: 0.4874 - val_acc: 0.7708\n",
      "Epoch 4/20\n",
      "20000/20000 [==============================] - 3s 160us/step - loss: 0.3685 - acc: 0.7504 - val_loss: 0.7934 - val_acc: 0.6610\n",
      "Epoch 5/20\n",
      "20000/20000 [==============================] - 3s 164us/step - loss: 0.3158 - acc: 0.6972 - val_loss: 0.6043 - val_acc: 0.6820\n",
      "Epoch 6/20\n",
      "20000/20000 [==============================] - 3s 161us/step - loss: 0.2778 - acc: 0.6763 - val_loss: 0.6579 - val_acc: 0.6076\n",
      "Epoch 7/20\n",
      "20000/20000 [==============================] - 3s 158us/step - loss: 0.2273 - acc: 0.6306 - val_loss: 0.6990 - val_acc: 0.5474\n",
      "Epoch 8/20\n",
      "20000/20000 [==============================] - 3s 163us/step - loss: 0.2128 - acc: 0.6016 - val_loss: 0.7331 - val_acc: 0.5374\n",
      "Epoch 9/20\n",
      "20000/20000 [==============================] - 3s 158us/step - loss: 0.1743 - acc: 0.5471 - val_loss: 1.1586 - val_acc: 0.4292\n",
      "Epoch 10/20\n",
      "20000/20000 [==============================] - 3s 158us/step - loss: 0.1509 - acc: 0.4662 - val_loss: 0.9164 - val_acc: 0.3868\n",
      "Epoch 11/20\n",
      "20000/20000 [==============================] - 3s 166us/step - loss: 0.1359 - acc: 0.3936 - val_loss: 0.9941 - val_acc: 0.3428\n",
      "Epoch 12/20\n",
      "20000/20000 [==============================] - 3s 159us/step - loss: 0.1242 - acc: 0.3183 - val_loss: 1.3171 - val_acc: 0.2714\n",
      "Epoch 13/20\n",
      "20000/20000 [==============================] - 3s 161us/step - loss: 0.1195 - acc: 0.2686 - val_loss: 1.8278 - val_acc: 0.2622\n",
      "Epoch 14/20\n",
      "20000/20000 [==============================] - 3s 161us/step - loss: 0.1180 - acc: 0.2283 - val_loss: 1.2053 - val_acc: 0.2508\n",
      "Epoch 15/20\n",
      "20000/20000 [==============================] - 3s 166us/step - loss: 0.1166 - acc: 0.1916 - val_loss: 1.2110 - val_acc: 0.2560\n",
      "Epoch 16/20\n",
      "20000/20000 [==============================] - 3s 160us/step - loss: 0.1055 - acc: 0.1699 - val_loss: 1.3018 - val_acc: 0.2456\n",
      "Epoch 17/20\n",
      "20000/20000 [==============================] - 3s 158us/step - loss: 0.1152 - acc: 0.1611 - val_loss: 1.2450 - val_acc: 0.2274\n",
      "Epoch 18/20\n",
      "20000/20000 [==============================] - 3s 165us/step - loss: 0.1080 - acc: 0.1462 - val_loss: 1.2108 - val_acc: 0.2312\n",
      "Epoch 19/20\n",
      "20000/20000 [==============================] - 3s 158us/step - loss: 0.1089 - acc: 0.1384 - val_loss: 1.2482 - val_acc: 0.2206\n",
      "Epoch 20/20\n",
      "20000/20000 [==============================] - 3s 158us/step - loss: 0.1133 - acc: 0.1353 - val_loss: 1.2372 - val_acc: 0.2178\n"
     ]
    }
   ],
   "source": [
    "history = model.fit(x_train, y_train,\n",
    "    epochs=20,\n",
    "    batch_size=128,\n",
    "    validation_split=0.2,\n",
    "    callbacks=callbacks)"
   ]
  },
  {
   "cell_type": "code",
   "execution_count": null,
   "metadata": {},
   "outputs": [],
   "source": []
  }
 ],
 "metadata": {
  "kernelspec": {
   "display_name": "Python 3",
   "language": "python",
   "name": "python3"
  },
  "language_info": {
   "codemirror_mode": {
    "name": "ipython",
    "version": 3
   },
   "file_extension": ".py",
   "mimetype": "text/x-python",
   "name": "python",
   "nbconvert_exporter": "python",
   "pygments_lexer": "ipython3",
   "version": "3.5.4"
  }
 },
 "nbformat": 4,
 "nbformat_minor": 2
}

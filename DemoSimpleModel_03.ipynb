{
 "cells": [
  {
   "cell_type": "code",
   "execution_count": 1,
   "metadata": {},
   "outputs": [],
   "source": [
    "from sklearn.datasets import make_circles\n",
    "import numpy as np\n",
    "import matplotlib.pyplot as plt\n",
    "import os\n",
    "os.environ['KERAS_BACKEND'] = 'cntk'"
   ]
  },
  {
   "cell_type": "markdown",
   "metadata": {},
   "source": [
    "### Helper Functions"
   ]
  },
  {
   "cell_type": "code",
   "execution_count": 2,
   "metadata": {},
   "outputs": [],
   "source": [
    "def plot_data(pl, X, y):\n",
    "    # plot class where y==0\n",
    "    pl.plot(X[y==0, 0], X[y==0,1], 'ob', alpha=0.5)\n",
    "    # plot class where y==1\n",
    "    pl.plot(X[y==1, 0], X[y==1,1], 'xr', alpha=0.5)\n",
    "    pl.legend(['0', '1'])\n",
    "    return pl\n",
    "\n",
    "def plot_decision_boundary(model, X, y):\n",
    "\n",
    "    amin, bmin = X.min(axis=0) - 0.1\n",
    "    amax, bmax = X.max(axis=0) + 0.1\n",
    "    hticks = np.linspace(amin, amax, 101)\n",
    "    vticks = np.linspace(bmin, bmax, 101)\n",
    "    \n",
    "    aa, bb = np.meshgrid(hticks, vticks)\n",
    "    ab = np.c_[aa.ravel(), bb.ravel()]\n",
    "    \n",
    "    # make prediction with the model and reshape the output so contourf can plot it\n",
    "    c = model.predict(ab)\n",
    "    Z = c.reshape(aa.shape)\n",
    "\n",
    "    plt.figure(figsize=(12, 8))\n",
    "    # plot the contour\n",
    "    plt.contourf(aa, bb, Z, cmap='bwr', alpha=0.2)\n",
    "    # plot the moons of data\n",
    "    plot_data(plt, X, y)\n",
    "\n",
    "    return plt"
   ]
  },
  {
   "cell_type": "markdown",
   "metadata": {},
   "source": [
    "### Generate sample data and split Train/Test"
   ]
  },
  {
   "cell_type": "code",
   "execution_count": 3,
   "metadata": {},
   "outputs": [],
   "source": [
    "X, y = make_circles(n_samples=1000, factor=.6, noise=0.1, random_state=42)\n",
    "\n",
    "# Split the data into Training and Test sets\n",
    "from sklearn.model_selection import train_test_split\n",
    "X_train, X_test, y_train, y_test = train_test_split(X, y, test_size=0.3, random_state=42)"
   ]
  },
  {
   "cell_type": "markdown",
   "metadata": {},
   "source": [
    "### Keras Model"
   ]
  },
  {
   "cell_type": "code",
   "execution_count": 5,
   "metadata": {},
   "outputs": [
    {
     "name": "stdout",
     "output_type": "stream",
     "text": [
      "_________________________________________________________________\n",
      "Layer (type)                 Output Shape              Param #   \n",
      "=================================================================\n",
      "Hidden-1 (Dense)             (None, 4)                 12        \n",
      "_________________________________________________________________\n",
      "Hidden-2 (Dense)             (None, 4)                 20        \n",
      "_________________________________________________________________\n",
      "output_layer (Dense)         (None, 1)                 5         \n",
      "=================================================================\n",
      "Total params: 37\n",
      "Trainable params: 37\n",
      "Non-trainable params: 0\n",
      "_________________________________________________________________\n"
     ]
    }
   ],
   "source": [
    "# Create the keras model\n",
    "from keras.models import Sequential\n",
    "from keras.layers import Dense\n",
    "from keras.optimizers import Adam\n",
    "\n",
    "# Model\n",
    "model = Sequential()\n",
    "model.add(Dense(4, input_shape=(2,), activation=\"tanh\", name=\"Hidden-1\"))\n",
    "model.add(Dense(4, activation=\"tanh\", name=\"Hidden-2\"))\n",
    "model.add(Dense(1, activation=\"sigmoid\", name=\"output_layer\"))\n",
    "model.summary()\n",
    "\n",
    "# Define Optimizer, Loss and Metrics\n",
    "model.compile(Adam(lr=0.05), 'binary_crossentropy', metrics=['accuracy'])"
   ]
  },
  {
   "cell_type": "markdown",
   "metadata": {},
   "source": [
    "### Learning without Callbacks"
   ]
  },
  {
   "cell_type": "code",
   "execution_count": null,
   "metadata": {},
   "outputs": [],
   "source": [
    "# Start the Learning\n",
    "model.fit(X_train, y_train, epochs=100, verbose=0)"
   ]
  },
  {
   "cell_type": "markdown",
   "metadata": {},
   "source": [
    "### Learning and Use TensorBoard"
   ]
  },
  {
   "cell_type": "code",
   "execution_count": 10,
   "metadata": {},
   "outputs": [
    {
     "name": "stdout",
     "output_type": "stream",
     "text": [
      "Train on 700 samples, validate on 300 samples\n",
      "Epoch 1/100\n",
      "700/700 [==============================] - 0s 96us/step - loss: 0.0801 - acc: 0.9714 - val_loss: 0.2608 - val_acc: 0.9133\n",
      "Epoch 2/100\n",
      "700/700 [==============================] - 0s 86us/step - loss: 0.1031 - acc: 0.9629 - val_loss: 0.1269 - val_acc: 0.9567\n",
      "Epoch 3/100\n",
      "700/700 [==============================] - 0s 94us/step - loss: 0.0684 - acc: 0.9757 - val_loss: 0.1195 - val_acc: 0.9500\n"
     ]
    },
    {
     "name": "stderr",
     "output_type": "stream",
     "text": [
      "/anaconda/envs/py35/lib/python3.5/site-packages/keras/callbacks.py:690: UserWarning: You are not using the TensorFlow backend. histogram_freq was set to 0\n",
      "  warnings.warn('You are not using the TensorFlow backend. '\n",
      "/anaconda/envs/py35/lib/python3.5/site-packages/keras/callbacks.py:694: UserWarning: You are not using the TensorFlow backend. write_graph was set to False\n",
      "  warnings.warn('You are not using the TensorFlow backend. '\n",
      "/anaconda/envs/py35/lib/python3.5/site-packages/keras/callbacks.py:702: UserWarning: You are not using the TensorFlow backend. embeddings_freq was set to 0\n",
      "  warnings.warn('You are not using the TensorFlow backend. '\n",
      "/anaconda/envs/py35/lib/python3.5/site-packages/cntk/core.py:361: UserWarning: your data is of type \"float64\", but your input variable (uid \"Input4\") expects \"<class 'numpy.float32'>\". Please convert your data beforehand to speed up training.\n",
      "  (sample.dtype, var.uid, str(var.dtype)))\n"
     ]
    },
    {
     "name": "stdout",
     "output_type": "stream",
     "text": [
      "Epoch 4/100\n",
      "700/700 [==============================] - 0s 92us/step - loss: 0.0747 - acc: 0.9700 - val_loss: 0.1401 - val_acc: 0.9467\n",
      "Epoch 5/100\n",
      "700/700 [==============================] - 0s 86us/step - loss: 0.0819 - acc: 0.9686 - val_loss: 0.1147 - val_acc: 0.9533\n",
      "Epoch 6/100\n",
      "700/700 [==============================] - 0s 89us/step - loss: 0.0723 - acc: 0.9743 - val_loss: 0.1321 - val_acc: 0.9567\n",
      "Epoch 7/100\n",
      "700/700 [==============================] - 0s 85us/step - loss: 0.0808 - acc: 0.9700 - val_loss: 0.1529 - val_acc: 0.9433\n",
      "Epoch 8/100\n",
      "700/700 [==============================] - 0s 84us/step - loss: 0.0665 - acc: 0.9686 - val_loss: 0.1775 - val_acc: 0.9333\n",
      "Epoch 9/100\n",
      "700/700 [==============================] - 0s 85us/step - loss: 0.0802 - acc: 0.9729 - val_loss: 0.1333 - val_acc: 0.9467\n",
      "Epoch 10/100\n",
      "700/700 [==============================] - 0s 91us/step - loss: 0.0870 - acc: 0.9657 - val_loss: 0.1850 - val_acc: 0.9233\n",
      "Epoch 11/100\n",
      "700/700 [==============================] - 0s 103us/step - loss: 0.1196 - acc: 0.9586 - val_loss: 0.2306 - val_acc: 0.9133\n",
      "Epoch 12/100\n",
      "700/700 [==============================] - 0s 84us/step - loss: 0.0985 - acc: 0.9543 - val_loss: 0.1271 - val_acc: 0.9533\n",
      "Epoch 13/100\n",
      "700/700 [==============================] - 0s 91us/step - loss: 0.0691 - acc: 0.9729 - val_loss: 0.1185 - val_acc: 0.9533\n",
      "Epoch 14/100\n",
      "700/700 [==============================] - 0s 86us/step - loss: 0.0563 - acc: 0.9757 - val_loss: 0.1259 - val_acc: 0.9533\n",
      "Epoch 15/100\n",
      "700/700 [==============================] - 0s 247us/step - loss: 0.0673 - acc: 0.9743 - val_loss: 0.1740 - val_acc: 0.9333\n",
      "Epoch 16/100\n",
      "700/700 [==============================] - 0s 87us/step - loss: 0.0924 - acc: 0.9657 - val_loss: 0.1568 - val_acc: 0.9567\n",
      "Epoch 17/100\n",
      "700/700 [==============================] - 0s 85us/step - loss: 0.0824 - acc: 0.9743 - val_loss: 0.1568 - val_acc: 0.9300\n",
      "Epoch 18/100\n",
      "700/700 [==============================] - 0s 95us/step - loss: 0.0647 - acc: 0.9714 - val_loss: 0.1299 - val_acc: 0.9433\n",
      "Epoch 19/100\n",
      "700/700 [==============================] - 0s 153us/step - loss: 0.0603 - acc: 0.9786 - val_loss: 0.1182 - val_acc: 0.9600\n",
      "Epoch 20/100\n",
      "700/700 [==============================] - 0s 113us/step - loss: 0.0562 - acc: 0.9800 - val_loss: 0.1378 - val_acc: 0.9533\n",
      "Epoch 21/100\n",
      "700/700 [==============================] - 0s 160us/step - loss: 0.0578 - acc: 0.9800 - val_loss: 0.1351 - val_acc: 0.9567\n",
      "Epoch 22/100\n",
      "700/700 [==============================] - 0s 139us/step - loss: 0.0498 - acc: 0.9786 - val_loss: 0.1683 - val_acc: 0.9333\n",
      "Epoch 23/100\n",
      "700/700 [==============================] - 0s 92us/step - loss: 0.0508 - acc: 0.9800 - val_loss: 0.1296 - val_acc: 0.9500\n",
      "Epoch 24/100\n",
      "700/700 [==============================] - 0s 94us/step - loss: 0.0593 - acc: 0.9743 - val_loss: 0.1285 - val_acc: 0.9567\n",
      "Epoch 25/100\n",
      "700/700 [==============================] - 0s 97us/step - loss: 0.0615 - acc: 0.9786 - val_loss: 0.1588 - val_acc: 0.9533\n",
      "Epoch 26/100\n",
      "700/700 [==============================] - 0s 131us/step - loss: 0.0811 - acc: 0.9671 - val_loss: 0.1447 - val_acc: 0.9600\n",
      "Epoch 27/100\n",
      "700/700 [==============================] - 0s 99us/step - loss: 0.0585 - acc: 0.9743 - val_loss: 0.1268 - val_acc: 0.9500\n",
      "Epoch 28/100\n",
      "700/700 [==============================] - 0s 97us/step - loss: 0.0573 - acc: 0.9786 - val_loss: 0.1285 - val_acc: 0.9500\n",
      "Epoch 29/100\n",
      "700/700 [==============================] - 0s 97us/step - loss: 0.0550 - acc: 0.9829 - val_loss: 0.1351 - val_acc: 0.9500\n",
      "Epoch 30/100\n",
      "700/700 [==============================] - 0s 133us/step - loss: 0.0649 - acc: 0.9771 - val_loss: 0.1353 - val_acc: 0.9533\n",
      "Epoch 31/100\n",
      "700/700 [==============================] - 0s 121us/step - loss: 0.0581 - acc: 0.9786 - val_loss: 0.1869 - val_acc: 0.9267\n",
      "Epoch 32/100\n",
      "700/700 [==============================] - 0s 89us/step - loss: 0.0564 - acc: 0.9771 - val_loss: 0.1358 - val_acc: 0.9533\n",
      "Epoch 33/100\n",
      "700/700 [==============================] - 0s 117us/step - loss: 0.1000 - acc: 0.9671 - val_loss: 0.2271 - val_acc: 0.9300\n",
      "Epoch 34/100\n",
      "700/700 [==============================] - 0s 101us/step - loss: 0.0662 - acc: 0.9743 - val_loss: 0.1814 - val_acc: 0.9400\n",
      "Epoch 35/100\n",
      "700/700 [==============================] - 0s 96us/step - loss: 0.0677 - acc: 0.9743 - val_loss: 0.1475 - val_acc: 0.9600\n",
      "Epoch 36/100\n",
      "700/700 [==============================] - 0s 104us/step - loss: 0.0593 - acc: 0.9786 - val_loss: 0.1507 - val_acc: 0.9567\n",
      "Epoch 37/100\n",
      "700/700 [==============================] - 0s 88us/step - loss: 0.0575 - acc: 0.9786 - val_loss: 0.1480 - val_acc: 0.9533\n",
      "Epoch 38/100\n",
      "700/700 [==============================] - 0s 83us/step - loss: 0.0706 - acc: 0.9700 - val_loss: 0.1441 - val_acc: 0.9400\n",
      "Epoch 39/100\n",
      "700/700 [==============================] - 0s 93us/step - loss: 0.0671 - acc: 0.9729 - val_loss: 0.1495 - val_acc: 0.9533\n",
      "Epoch 40/100\n",
      "700/700 [==============================] - 0s 88us/step - loss: 0.0543 - acc: 0.9800 - val_loss: 0.1888 - val_acc: 0.9400\n",
      "Epoch 41/100\n",
      "700/700 [==============================] - 0s 82us/step - loss: 0.0682 - acc: 0.9771 - val_loss: 0.1503 - val_acc: 0.9367\n",
      "Epoch 42/100\n",
      "700/700 [==============================] - 0s 185us/step - loss: 0.0592 - acc: 0.9700 - val_loss: 0.1626 - val_acc: 0.9333\n",
      "Epoch 43/100\n",
      "700/700 [==============================] - 0s 173us/step - loss: 0.0824 - acc: 0.9643 - val_loss: 0.1902 - val_acc: 0.9300\n",
      "Epoch 44/100\n",
      "700/700 [==============================] - 0s 118us/step - loss: 0.0776 - acc: 0.9671 - val_loss: 0.1622 - val_acc: 0.9400\n",
      "Epoch 45/100\n",
      "700/700 [==============================] - 0s 82us/step - loss: 0.0823 - acc: 0.9700 - val_loss: 0.1674 - val_acc: 0.9433\n",
      "Epoch 46/100\n",
      "700/700 [==============================] - 0s 85us/step - loss: 0.0604 - acc: 0.9757 - val_loss: 0.1677 - val_acc: 0.9333\n",
      "Epoch 47/100\n",
      "700/700 [==============================] - 0s 86us/step - loss: 0.0592 - acc: 0.9743 - val_loss: 0.1263 - val_acc: 0.9533\n",
      "Epoch 48/100\n",
      "700/700 [==============================] - 0s 84us/step - loss: 0.0579 - acc: 0.9771 - val_loss: 0.1691 - val_acc: 0.9300\n",
      "Epoch 49/100\n",
      "700/700 [==============================] - 0s 97us/step - loss: 0.0582 - acc: 0.9757 - val_loss: 0.1494 - val_acc: 0.9567\n",
      "Epoch 50/100\n",
      "700/700 [==============================] - 0s 87us/step - loss: 0.0762 - acc: 0.9743 - val_loss: 0.1556 - val_acc: 0.9467\n",
      "Epoch 51/100\n",
      "700/700 [==============================] - 0s 85us/step - loss: 0.0724 - acc: 0.9686 - val_loss: 0.1636 - val_acc: 0.9467\n",
      "Epoch 52/100\n",
      "700/700 [==============================] - 0s 95us/step - loss: 0.0669 - acc: 0.9771 - val_loss: 0.1262 - val_acc: 0.9467\n",
      "Epoch 53/100\n",
      "700/700 [==============================] - 0s 110us/step - loss: 0.0594 - acc: 0.9743 - val_loss: 0.1299 - val_acc: 0.9600\n",
      "Epoch 54/100\n",
      "700/700 [==============================] - 0s 84us/step - loss: 0.0488 - acc: 0.9786 - val_loss: 0.1332 - val_acc: 0.9500\n",
      "Epoch 55/100\n",
      "700/700 [==============================] - 0s 83us/step - loss: 0.0488 - acc: 0.9786 - val_loss: 0.1516 - val_acc: 0.9467\n",
      "Epoch 56/100\n",
      "700/700 [==============================] - 0s 86us/step - loss: 0.0613 - acc: 0.9771 - val_loss: 0.1736 - val_acc: 0.9400\n",
      "Epoch 57/100\n",
      "700/700 [==============================] - 0s 100us/step - loss: 0.0626 - acc: 0.9686 - val_loss: 0.1646 - val_acc: 0.9533\n",
      "Epoch 58/100\n",
      "700/700 [==============================] - 0s 82us/step - loss: 0.0540 - acc: 0.9814 - val_loss: 0.1486 - val_acc: 0.9500\n",
      "Epoch 59/100\n",
      "700/700 [==============================] - ETA: 0s - loss: 0.0096 - acc: 1.000 - 0s 83us/step - loss: 0.0618 - acc: 0.9757 - val_loss: 0.1355 - val_acc: 0.9567\n",
      "Epoch 60/100\n",
      "700/700 [==============================] - 0s 87us/step - loss: 0.0608 - acc: 0.9771 - val_loss: 0.1550 - val_acc: 0.9400\n",
      "Epoch 61/100\n",
      "700/700 [==============================] - 0s 89us/step - loss: 0.0555 - acc: 0.9757 - val_loss: 0.1501 - val_acc: 0.9500\n",
      "Epoch 62/100\n",
      "700/700 [==============================] - 0s 100us/step - loss: 0.0629 - acc: 0.9771 - val_loss: 0.1612 - val_acc: 0.9467\n",
      "Epoch 63/100\n",
      "700/700 [==============================] - ETA: 0s - loss: 0.0478 - acc: 0.968 - 0s 91us/step - loss: 0.0627 - acc: 0.9700 - val_loss: 0.2378 - val_acc: 0.9333\n",
      "Epoch 64/100\n"
     ]
    },
    {
     "name": "stdout",
     "output_type": "stream",
     "text": [
      "700/700 [==============================] - 0s 107us/step - loss: 0.0909 - acc: 0.9643 - val_loss: 0.1567 - val_acc: 0.9433\n",
      "Epoch 65/100\n",
      "700/700 [==============================] - 0s 91us/step - loss: 0.0580 - acc: 0.9800 - val_loss: 0.1408 - val_acc: 0.9500\n",
      "Epoch 66/100\n",
      "700/700 [==============================] - 0s 91us/step - loss: 0.0502 - acc: 0.9771 - val_loss: 0.1531 - val_acc: 0.9533\n",
      "Epoch 67/100\n",
      "700/700 [==============================] - ETA: 0s - loss: 0.0680 - acc: 0.968 - 0s 91us/step - loss: 0.0479 - acc: 0.9814 - val_loss: 0.1732 - val_acc: 0.9367\n",
      "Epoch 68/100\n",
      "700/700 [==============================] - 0s 78us/step - loss: 0.0524 - acc: 0.9800 - val_loss: 0.1470 - val_acc: 0.9533\n",
      "Epoch 69/100\n",
      "700/700 [==============================] - 0s 93us/step - loss: 0.0559 - acc: 0.9757 - val_loss: 0.1433 - val_acc: 0.9433\n",
      "Epoch 70/100\n",
      "700/700 [==============================] - 0s 87us/step - loss: 0.0567 - acc: 0.9743 - val_loss: 0.1637 - val_acc: 0.9500\n",
      "Epoch 71/100\n",
      "700/700 [==============================] - 0s 92us/step - loss: 0.0670 - acc: 0.9757 - val_loss: 0.1313 - val_acc: 0.9533\n",
      "Epoch 72/100\n",
      "700/700 [==============================] - 0s 98us/step - loss: 0.0901 - acc: 0.9629 - val_loss: 0.2013 - val_acc: 0.9367\n",
      "Epoch 73/100\n",
      "700/700 [==============================] - 0s 84us/step - loss: 0.0692 - acc: 0.9757 - val_loss: 0.1604 - val_acc: 0.9400\n",
      "Epoch 74/100\n",
      "700/700 [==============================] - 0s 275us/step - loss: 0.0621 - acc: 0.9714 - val_loss: 0.1428 - val_acc: 0.9433\n",
      "Epoch 75/100\n",
      "700/700 [==============================] - 0s 119us/step - loss: 0.0607 - acc: 0.9771 - val_loss: 0.1687 - val_acc: 0.9367\n",
      "Epoch 76/100\n",
      "700/700 [==============================] - 0s 93us/step - loss: 0.0498 - acc: 0.9800 - val_loss: 0.1709 - val_acc: 0.9467\n",
      "Epoch 77/100\n",
      "700/700 [==============================] - 0s 90us/step - loss: 0.0610 - acc: 0.9757 - val_loss: 0.1958 - val_acc: 0.9333\n",
      "Epoch 78/100\n",
      "700/700 [==============================] - 0s 102us/step - loss: 0.0666 - acc: 0.9700 - val_loss: 0.2312 - val_acc: 0.9333\n",
      "Epoch 79/100\n",
      "700/700 [==============================] - 0s 84us/step - loss: 0.0532 - acc: 0.9757 - val_loss: 0.1411 - val_acc: 0.9567\n",
      "Epoch 80/100\n",
      "700/700 [==============================] - 0s 81us/step - loss: 0.0680 - acc: 0.9757 - val_loss: 0.1751 - val_acc: 0.9400\n",
      "Epoch 81/100\n",
      "700/700 [==============================] - 0s 84us/step - loss: 0.0574 - acc: 0.9729 - val_loss: 0.2141 - val_acc: 0.9367\n",
      "Epoch 82/100\n",
      "700/700 [==============================] - 0s 88us/step - loss: 0.0897 - acc: 0.9700 - val_loss: 0.1749 - val_acc: 0.9433\n",
      "Epoch 83/100\n",
      "700/700 [==============================] - 0s 86us/step - loss: 0.0601 - acc: 0.9757 - val_loss: 0.1400 - val_acc: 0.9533\n",
      "Epoch 84/100\n",
      "700/700 [==============================] - 0s 85us/step - loss: 0.0550 - acc: 0.9814 - val_loss: 0.1533 - val_acc: 0.9533\n",
      "Epoch 85/100\n",
      "700/700 [==============================] - 0s 89us/step - loss: 0.0518 - acc: 0.9743 - val_loss: 0.1487 - val_acc: 0.9500\n",
      "Epoch 86/100\n",
      "700/700 [==============================] - 0s 91us/step - loss: 0.0505 - acc: 0.9786 - val_loss: 0.1566 - val_acc: 0.9500\n",
      "Epoch 87/100\n",
      "700/700 [==============================] - 0s 105us/step - loss: 0.0568 - acc: 0.9771 - val_loss: 0.1491 - val_acc: 0.9500\n",
      "Epoch 88/100\n",
      "700/700 [==============================] - 0s 90us/step - loss: 0.0655 - acc: 0.9757 - val_loss: 0.1382 - val_acc: 0.9500\n",
      "Epoch 89/100\n",
      "700/700 [==============================] - 0s 90us/step - loss: 0.0621 - acc: 0.9786 - val_loss: 0.2629 - val_acc: 0.9300\n",
      "Epoch 90/100\n",
      "700/700 [==============================] - 0s 84us/step - loss: 0.0993 - acc: 0.9657 - val_loss: 0.1558 - val_acc: 0.9467\n",
      "Epoch 91/100\n",
      "700/700 [==============================] - 0s 99us/step - loss: 0.0700 - acc: 0.9743 - val_loss: 0.1910 - val_acc: 0.9300\n",
      "Epoch 92/100\n",
      "700/700 [==============================] - 0s 106us/step - loss: 0.0744 - acc: 0.9614 - val_loss: 0.2386 - val_acc: 0.9133\n",
      "Epoch 93/100\n",
      "700/700 [==============================] - 0s 90us/step - loss: 0.0758 - acc: 0.9671 - val_loss: 0.1524 - val_acc: 0.9367\n",
      "Epoch 94/100\n",
      "700/700 [==============================] - 0s 82us/step - loss: 0.0616 - acc: 0.9686 - val_loss: 0.1870 - val_acc: 0.9333\n",
      "Epoch 95/100\n",
      "700/700 [==============================] - 0s 85us/step - loss: 0.0798 - acc: 0.9757 - val_loss: 0.1433 - val_acc: 0.9467\n",
      "Epoch 96/100\n",
      "700/700 [==============================] - 0s 93us/step - loss: 0.0514 - acc: 0.9829 - val_loss: 0.1525 - val_acc: 0.9533\n",
      "Epoch 97/100\n",
      "700/700 [==============================] - 0s 95us/step - loss: 0.0701 - acc: 0.9771 - val_loss: 0.1549 - val_acc: 0.9467\n",
      "Epoch 98/100\n",
      "700/700 [==============================] - 0s 90us/step - loss: 0.0709 - acc: 0.9757 - val_loss: 0.1534 - val_acc: 0.9467\n",
      "Epoch 99/100\n",
      "700/700 [==============================] - 0s 99us/step - loss: 0.0643 - acc: 0.9757 - val_loss: 0.1488 - val_acc: 0.9467\n",
      "Epoch 100/100\n",
      "700/700 [==============================] - 0s 152us/step - loss: 0.0468 - acc: 0.9814 - val_loss: 0.1632 - val_acc: 0.9400\n"
     ]
    },
    {
     "data": {
      "text/plain": [
       "<keras.callbacks.History at 0x7fd1ed5e37b8>"
      ]
     },
     "execution_count": 10,
     "metadata": {},
     "output_type": "execute_result"
    }
   ],
   "source": [
    "# Start the Learning\n",
    "from keras.callbacks import TensorBoard\n",
    "\n",
    "callbacks = [\n",
    "    TensorBoard(\n",
    "        log_dir='tensorboard_log/simple_model_all_epochs',\n",
    "        histogram_freq=1,\n",
    "        write_graph=True\n",
    "    )\n",
    "]\n",
    "\n",
    "model.fit(X_train, y_train, epochs=100, verbose=1, callbacks=callbacks, validation_data=(X_test, y_test))"
   ]
  },
  {
   "cell_type": "markdown",
   "metadata": {},
   "source": [
    "### Learning Using Callbacks\n",
    "\n",
    "* EarlyStopping\n",
    "* TensorBoard"
   ]
  },
  {
   "cell_type": "code",
   "execution_count": 11,
   "metadata": {},
   "outputs": [
    {
     "name": "stdout",
     "output_type": "stream",
     "text": [
      "Train on 700 samples, validate on 300 samples\n",
      "Epoch 1/100\n",
      "700/700 [==============================] - 0s 177us/step - loss: 0.0585 - acc: 0.9743 - val_loss: 0.1440 - val_acc: 0.9567\n",
      "Epoch 2/100\n",
      "700/700 [==============================] - 0s 78us/step - loss: 0.0678 - acc: 0.9771 - val_loss: 0.1687 - val_acc: 0.9367\n",
      "Epoch 3/100\n",
      " 32/700 [>.............................] - ETA: 0s - loss: 0.0333 - acc: 0.9688"
     ]
    },
    {
     "name": "stderr",
     "output_type": "stream",
     "text": [
      "/anaconda/envs/py35/lib/python3.5/site-packages/keras/callbacks.py:690: UserWarning: You are not using the TensorFlow backend. histogram_freq was set to 0\n",
      "  warnings.warn('You are not using the TensorFlow backend. '\n",
      "/anaconda/envs/py35/lib/python3.5/site-packages/keras/callbacks.py:694: UserWarning: You are not using the TensorFlow backend. write_graph was set to False\n",
      "  warnings.warn('You are not using the TensorFlow backend. '\n",
      "/anaconda/envs/py35/lib/python3.5/site-packages/keras/callbacks.py:702: UserWarning: You are not using the TensorFlow backend. embeddings_freq was set to 0\n",
      "  warnings.warn('You are not using the TensorFlow backend. '\n",
      "/anaconda/envs/py35/lib/python3.5/site-packages/cntk/core.py:361: UserWarning: your data is of type \"float64\", but your input variable (uid \"Input4\") expects \"<class 'numpy.float32'>\". Please convert your data beforehand to speed up training.\n",
      "  (sample.dtype, var.uid, str(var.dtype)))\n"
     ]
    },
    {
     "name": "stdout",
     "output_type": "stream",
     "text": [
      "700/700 [==============================] - 0s 88us/step - loss: 0.0711 - acc: 0.9700 - val_loss: 0.1621 - val_acc: 0.9500\n",
      "Epoch 4/100\n",
      "700/700 [==============================] - 0s 96us/step - loss: 0.0482 - acc: 0.9800 - val_loss: 0.1665 - val_acc: 0.9433\n",
      "Epoch 5/100\n",
      "700/700 [==============================] - 0s 90us/step - loss: 0.0559 - acc: 0.9814 - val_loss: 0.1554 - val_acc: 0.9467\n",
      "Epoch 6/100\n",
      "700/700 [==============================] - 0s 89us/step - loss: 0.0522 - acc: 0.9771 - val_loss: 0.1510 - val_acc: 0.9533\n"
     ]
    },
    {
     "data": {
      "text/plain": [
       "<keras.callbacks.History at 0x7fd1ef46a0b8>"
      ]
     },
     "execution_count": 11,
     "metadata": {},
     "output_type": "execute_result"
    }
   ],
   "source": [
    "# Start the Learning\n",
    "from keras.callbacks import EarlyStopping\n",
    "from keras.callbacks import TensorBoard\n",
    "\n",
    "callbacks = [\n",
    "    TensorBoard(\n",
    "        log_dir='tensorboard_log/simple_model_early',\n",
    "        histogram_freq=1,\n",
    "        embeddings_freq=1,\n",
    "    ),\n",
    "    EarlyStopping(\n",
    "        monitor='val_acc', \n",
    "        patience=5, \n",
    "        mode='max'\n",
    "    )\n",
    "]\n",
    "\n",
    "model.fit(X_train, y_train, epochs=100, verbose=1, callbacks=callbacks, validation_data=(X_test, y_test))"
   ]
  },
  {
   "cell_type": "code",
   "execution_count": 7,
   "metadata": {},
   "outputs": [],
   "source": [
    "from keras.utils import plot_model\n",
    "plot_model(model, to_file=\"model.png\", show_shapes=True, show_layer_names=True)"
   ]
  },
  {
   "cell_type": "markdown",
   "metadata": {},
   "source": [
    "### Print the performance"
   ]
  },
  {
   "cell_type": "code",
   "execution_count": 12,
   "metadata": {},
   "outputs": [
    {
     "name": "stdout",
     "output_type": "stream",
     "text": [
      "300/300 [==============================] - 0s 66us/step\n",
      "\n",
      "\n",
      "Test loss: 0.15101081133509675 Test accuracy: 0.9533333333333334\n"
     ]
    },
    {
     "name": "stderr",
     "output_type": "stream",
     "text": [
      "/anaconda/envs/py35/lib/python3.5/site-packages/cntk/core.py:361: UserWarning: your data is of type \"float64\", but your input variable (uid \"Input4\") expects \"<class 'numpy.float32'>\". Please convert your data beforehand to speed up training.\n",
      "  (sample.dtype, var.uid, str(var.dtype)))\n"
     ]
    }
   ],
   "source": [
    "eval_result = model.evaluate(X_test, y_test)\n",
    "print(\"\\n\\nTest loss:\", eval_result[0], \"Test accuracy:\", eval_result[1])"
   ]
  },
  {
   "cell_type": "markdown",
   "metadata": {},
   "source": [
    "### Plot Decision Boundary"
   ]
  },
  {
   "cell_type": "code",
   "execution_count": 9,
   "metadata": {},
   "outputs": [
    {
     "name": "stderr",
     "output_type": "stream",
     "text": [
      "/anaconda/envs/py35/lib/python3.5/site-packages/cntk/core.py:361: UserWarning: your data is of type \"float64\", but your input variable (uid \"Input4\") expects \"<class 'numpy.float32'>\". Please convert your data beforehand to speed up training.\n",
      "  (sample.dtype, var.uid, str(var.dtype)))\n"
     ]
    },
    {
     "data": {
      "image/png": "[encoded data removed]",
      "text/plain": [
       "<matplotlib.figure.Figure at 0x7fd1ef551e80>"
      ]
     },
     "metadata": {},
     "output_type": "display_data"
    }
   ],
   "source": [
    "plot_decision_boundary(model, X, y).show()"
   ]
  },
  {
   "cell_type": "code",
   "execution_count": null,
   "metadata": {},
   "outputs": [],
   "source": []
  }
 ],
 "metadata": {
  "kernelspec": {
   "display_name": "Python 3",
   "language": "python",
   "name": "python3"
  },
  "language_info": {
   "codemirror_mode": {
    "name": "ipython",
    "version": 3
   },
   "file_extension": ".py",
   "mimetype": "text/x-python",
   "name": "python",
   "nbconvert_exporter": "python",
   "pygments_lexer": "ipython3",
   "version": "3.5.4"
  }
 },
 "nbformat": 4,
 "nbformat_minor": 2
}
